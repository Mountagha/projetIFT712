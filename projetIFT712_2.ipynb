{
 "cells": [
  {
   "cell_type": "code",
   "execution_count": 1,
   "metadata": {},
   "outputs": [],
   "source": [
    "import pandas as pd\n",
    "import os\n",
    "import numpy as np\n",
    "PATH = \"/home/mountagha/projetIFT712\"\n",
    "\n",
    "train = pd.read_csv(os.path.join(PATH,'train.csv'))\n",
    "test = pd.read_csv(os.path.join(PATH,'test.csv'))"
   ]
  },
  {
   "cell_type": "code",
   "execution_count": 6,
   "metadata": {},
   "outputs": [],
   "source": [
    "from sklearn.preprocessing import LabelEncoder\n",
    "\n",
    "train_Y = train[\"species\"]\n",
    "test_ids = test[\"id\"]\n",
    "train_X = train.drop([\"id\",\"species\"], axis=1)\n",
    "test_X = test.drop([\"id\"], axis=1)\n",
    "le = LabelEncoder().fit(train_Y)\n",
    "labels = le.transform(train_Y)\n",
    "classes = list(le.classes_)"
   ]
  },
  {
   "cell_type": "code",
   "execution_count": 11,
   "metadata": {},
   "outputs": [],
   "source": [
    "from sklearn.model_selection import StratifiedShuffleSplit\n",
    "sss = StratifiedShuffleSplit(10, test_size=0.2, random_state=23)\n",
    "\n",
    "for train_index, test_index in sss.split(train_X, labels):\n",
    "    X_train, X_test = train_X.values[train_index], train_X.values[test_index]\n",
    "    y_train, y_test = labels[train_index], labels[test_index]"
   ]
  },
  {
   "cell_type": "code",
   "execution_count": 17,
   "metadata": {},
   "outputs": [],
   "source": [
    "from sklearn.metrics import accuracy_score\n",
    "from sklearn.linear_model import LinearRegression\n",
    "\n",
    "model = LinearRegression()\n",
    "\n",
    "model.fit(X_train, y_train)\n",
    "predictions = model.predict(X_test)\n",
    "\n",
    "#accuracy = accuracy_score(y_test, predictions)\n",
    "#print(\"Accuracy: {:.4%}\".format(accuracy))\n",
    "\n",
    "#A voir plus tard"
   ]
  },
  {
   "cell_type": "code",
   "execution_count": null,
   "metadata": {
    "collapsed": true
   },
   "outputs": [],
   "source": []
  }
 ],
 "metadata": {
  "kernelspec": {
   "display_name": "Python 3",
   "language": "python",
   "name": "python3"
  },
  "language_info": {
   "codemirror_mode": {
    "name": "ipython",
    "version": 3
   },
   "file_extension": ".py",
   "mimetype": "text/x-python",
   "name": "python",
   "nbconvert_exporter": "python",
   "pygments_lexer": "ipython3",
   "version": "3.6.1"
  }
 },
 "nbformat": 4,
 "nbformat_minor": 2
}
